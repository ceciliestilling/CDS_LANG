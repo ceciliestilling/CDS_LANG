{
 "cells": [
  {
   "cell_type": "code",
   "execution_count": 83,
   "id": "e34df6fe-7ea2-4cde-ba67-59d2f34818b5",
   "metadata": {
    "execution": {
     "iopub.execute_input": "2022-03-15T17:32:22.800151Z",
     "iopub.status.busy": "2022-03-15T17:32:22.799660Z",
     "iopub.status.idle": "2022-03-15T17:32:23.173431Z",
     "shell.execute_reply": "2022-03-15T17:32:23.172580Z",
     "shell.execute_reply.started": "2022-03-15T17:32:22.800100Z"
    },
    "tags": []
   },
   "outputs": [],
   "source": [
    "# Data analysis\n",
    "import os\n",
    "import pandas as pd\n",
    "from collections import Counter\n",
    "from tqdm import tqdm\n",
    "\n",
    "\n",
    "from collections import Counter\n",
    "\n",
    "# NLP\n",
    "import spacy\n",
    "nlp = spacy.load(\"en_core_web_sm\")\n",
    "\n",
    "# sentiment analysis VADER\n",
    "from vaderSentiment.vaderSentiment import SentimentIntensityAnalyzer\n",
    "analyzer = SentimentIntensityAnalyzer()\n",
    "\n",
    "# sentiment with spacyTextBlob\n",
    "from spacytextblob.spacytextblob import SpacyTextBlob\n",
    "nlp.add_pipe('spacytextblob')\n",
    "\n",
    "# visualisations\n",
    "import matplotlib.pyplot as plt"
   ]
  },
  {
   "cell_type": "code",
   "execution_count": 55,
   "id": "6a278dd5-dcfd-4436-9ff4-30f511c5672a",
   "metadata": {
    "execution": {
     "iopub.execute_input": "2022-03-15T17:03:27.823110Z",
     "iopub.status.busy": "2022-03-15T17:03:27.822624Z",
     "iopub.status.idle": "2022-03-15T17:03:28.090201Z",
     "shell.execute_reply": "2022-03-15T17:03:28.089560Z",
     "shell.execute_reply.started": "2022-03-15T17:03:27.823060Z"
    },
    "tags": []
   },
   "outputs": [],
   "source": [
    "# get the filepath\n",
    "filename = os.path.join(\"..\", \"CDS-LANG\", \"tabular_examples\", \"fake_or_real_news.csv\")\n",
    "# load the data\n",
    "data = pd.read_csv(filename)\n",
    "# split data into 2 dataframes (real and fake)\n",
    "fake_news_df = data[data[\"label\"]==\"FAKE\"]\n",
    "real_news_df = data[data[\"label\"]==\"REAL\"]"
   ]
  },
  {
   "cell_type": "code",
   "execution_count": 57,
   "id": "13022ec5-ea31-4718-8473-6279329193db",
   "metadata": {
    "execution": {
     "iopub.execute_input": "2022-03-15T17:07:24.038382Z",
     "iopub.status.busy": "2022-03-15T17:07:24.038257Z",
     "iopub.status.idle": "2022-03-15T17:07:45.681514Z",
     "shell.execute_reply": "2022-03-15T17:07:45.680907Z",
     "shell.execute_reply.started": "2022-03-15T17:07:24.038368Z"
    },
    "tags": []
   },
   "outputs": [
    {
     "name": "stderr",
     "output_type": "stream",
     "text": [
      "3164it [00:04, 678.15it/s]\n"
     ]
    }
   ],
   "source": [
    "# FAKE NEWS \n",
    "\n",
    "# Create data frame with text ID\n",
    "new_fake_df = fake_news_df[\"Unnamed: 0\"]\n",
    "\n",
    "# Make into data frame\n",
    "new_fake_df = pd.DataFrame(new_fake_df)\n",
    "\n",
    "# Rename column with text ID\n",
    "new_fake_df.rename(columns = {\"Unnamed: 0\":\"text ID\"}, inplace = True)\n",
    "\n",
    "# get polarity and subjectivity scores\n",
    "sent_ass = []\n",
    "for headline in fake_news_df[\"title\"]:\n",
    "    doc = nlp(headline)\n",
    "    score = doc._.blob.sentiment_assessments.assessments\n",
    "    sent_ass.append(score)\n",
    "    \n",
    "# add sent_ass to df\n",
    "new_fake_df[\"sentiment assessment\"] = sent_ass\n",
    "\n",
    "\n",
    "# Find all mentions of geopolitical entites\n",
    "ents = []\n",
    "\n",
    "# iterate over every text\n",
    "for posts in tqdm(nlp.pipe(fake_news_df[\"title\"], batch_size=500)):\n",
    "    # temporary list\n",
    "    tmp_list = []\n",
    "    # get GPE for each headline\n",
    "    for entity in posts.ents:\n",
    "        # if it is a gpe\n",
    "        if entity.label_ == \"GPE\":\n",
    "            # append to temporary list\n",
    "            tmp_list.append(entity.text)\n",
    "    ents.append(tmp_list)\n",
    "    \n",
    "# add GPE to df\n",
    "new_fake_df[\"GPEs\"] = ents\n",
    "\n",
    "# save dataframe to csv\n",
    "new_fake_df.to_csv(\"fake_output.csv\", index = False)"
   ]
  },
  {
   "cell_type": "code",
   "execution_count": 58,
   "id": "29e1f3c5-d82d-4a0d-8f46-54eab5ece499",
   "metadata": {
    "execution": {
     "iopub.execute_input": "2022-03-15T17:11:31.518082Z",
     "iopub.status.busy": "2022-03-15T17:11:31.517471Z",
     "iopub.status.idle": "2022-03-15T17:11:52.775709Z",
     "shell.execute_reply": "2022-03-15T17:11:52.775111Z",
     "shell.execute_reply.started": "2022-03-15T17:11:31.518031Z"
    },
    "tags": []
   },
   "outputs": [
    {
     "name": "stderr",
     "output_type": "stream",
     "text": [
      "3171it [00:04, 753.27it/s]\n"
     ]
    }
   ],
   "source": [
    "# DO THE SAME FOR THE REAL NEWS\n",
    "\n",
    "# Create data frame with text ID\n",
    "new_real_df = real_news_df[\"Unnamed: 0\"]\n",
    "\n",
    "# Make into data frame\n",
    "new_real_df = pd.DataFrame(new_real_df)\n",
    "\n",
    "# Rename column with text ID\n",
    "new_real_df.rename(columns = {\"Unnamed: 0\":\"text ID\"}, inplace = True)\n",
    "\n",
    "# get polarity and subjectivity scores\n",
    "sent_ass = []\n",
    "for headline in real_news_df[\"title\"]:\n",
    "    doc = nlp(headline)\n",
    "    score = doc._.blob.sentiment_assessments.assessments\n",
    "    sent_ass.append(score)\n",
    "    \n",
    "# add sent_ass to df\n",
    "new_real_df[\"sentiment assessment\"] = sent_ass\n",
    "\n",
    "\n",
    "# Find all mentions of geopolitical entites\n",
    "ents = []\n",
    "\n",
    "# iterate over every text\n",
    "for posts in tqdm(nlp.pipe(real_news_df[\"title\"], batch_size=500)):\n",
    "    # temporary list\n",
    "    tmp_list = []\n",
    "    # get GPE for each headline\n",
    "    for entity in posts.ents:\n",
    "        # if it is a gpe\n",
    "        if entity.label_ == \"GPE\":\n",
    "            # append to temporary list\n",
    "            tmp_list.append(entity.text)\n",
    "    ents.append(tmp_list)\n",
    "    \n",
    "# add GPE to df\n",
    "new_real_df[\"GPEs\"] = ents\n",
    "\n",
    "# save dataframe to csv\n",
    "new_real_df.to_csv(\"real_output.csv\", index = False)"
   ]
  },
  {
   "cell_type": "code",
   "execution_count": 148,
   "id": "9e48f78f-279c-4c90-8f31-b73c14b0e0e9",
   "metadata": {
    "execution": {
     "iopub.execute_input": "2022-03-15T18:10:08.099714Z",
     "iopub.status.busy": "2022-03-15T18:10:08.099244Z",
     "iopub.status.idle": "2022-03-15T18:10:12.473722Z",
     "shell.execute_reply": "2022-03-15T18:10:12.473158Z",
     "shell.execute_reply.started": "2022-03-15T18:10:08.099665Z"
    },
    "tags": []
   },
   "outputs": [
    {
     "name": "stderr",
     "output_type": "stream",
     "text": [
      "3171it [00:04, 755.52it/s]\n"
     ]
    },
    {
     "data": {
      "text/plain": [
       "<AxesSubplot:xlabel='GPE'>"
      ]
     },
     "execution_count": 148,
     "metadata": {},
     "output_type": "execute_result"
    },
    {
     "data": {
      "image/png": "[encoded data removed]",
      "text/plain": [
       "<Figure size 432x288 with 1 Axes>"
      ]
     },
     "metadata": {
      "needs_background": "light"
     },
     "output_type": "display_data"
    }
   ],
   "source": [
    "# FIND 20 MOST COMMON GPES FOR THE REAL NEWS\n",
    "\n",
    "# create empty list\n",
    "real_gpe = [] \n",
    "\n",
    "for posts in tqdm(nlp.pipe(real_news_df[\"title\"], batch_size=500)):\n",
    "    # get GPE for each headline\n",
    "    for entity in posts.ents:\n",
    "        # if it is a gpe\n",
    "        if entity.label_ == \"GPE\":\n",
    "            real_gpe.append(entity.text)\n",
    "            \n",
    "# Get the top 20 most common GPEs\n",
    "gpe_count_real = Counter(real_gpe).most_common(20)\n",
    "# Make into dataframe\n",
    "gpe_count_real = pd.DataFrame(gpe_count_real)\n",
    "# rename the columns to GPE and Count\n",
    "gpe_count_real.rename(columns={0: \"GPE\", 1: \"Count\"}, inplace=True)\n",
    "\n",
    "# Create bar plot over 20 most common GPEs\n",
    "gpe_count_real.plot.bar(x=\"GPE\", y=\"Count\")"
   ]
  },
  {
   "cell_type": "code",
   "execution_count": 149,
   "id": "0193e857-b346-4beb-b79b-d7a997ed1687",
   "metadata": {
    "execution": {
     "iopub.execute_input": "2022-03-15T18:13:13.787029Z",
     "iopub.status.busy": "2022-03-15T18:13:13.786541Z",
     "iopub.status.idle": "2022-03-15T18:13:19.280234Z",
     "shell.execute_reply": "2022-03-15T18:13:19.279754Z",
     "shell.execute_reply.started": "2022-03-15T18:13:13.786980Z"
    },
    "tags": []
   },
   "outputs": [
    {
     "name": "stderr",
     "output_type": "stream",
     "text": [
      "3164it [00:05, 594.22it/s]\n"
     ]
    },
    {
     "data": {
      "text/plain": [
       "<AxesSubplot:xlabel='GPE'>"
      ]
     },
     "execution_count": 149,
     "metadata": {},
     "output_type": "execute_result"
    },
    {
     "data": {
      "image/png": "[encoded data removed]",
      "text/plain": [
       "<Figure size 432x288 with 1 Axes>"
      ]
     },
     "metadata": {
      "needs_background": "light"
     },
     "output_type": "display_data"
    }
   ],
   "source": [
    "# FIND 20 MOST COMMON GPES FOR THE FAKE NEWS\n",
    "\n",
    "# create empty list\n",
    "fake_gpe = [] \n",
    "\n",
    "for posts in tqdm(nlp.pipe(fake_news_df[\"title\"], batch_size=500)):\n",
    "    # get GPE for each headline\n",
    "    for entity in posts.ents:\n",
    "        # if it is a gpe\n",
    "        if entity.label_ == \"GPE\":\n",
    "            fake_gpe.append(entity.text)\n",
    "            \n",
    "# Get the top 20 most common GPEs\n",
    "gpe_count_fake = Counter(fake_gpe).most_common(20)\n",
    "# Make into dataframe\n",
    "gpe_count_fake = pd.DataFrame(gpe_count_fake)\n",
    "# rename the columns to GPE and Count\n",
    "gpe_count_fake.rename(columns={0: \"GPE\", 1: \"Count\"}, inplace=True)\n",
    "\n",
    "# Create bar plot over 20 most common GPEs\n",
    "gpe_count_fake.plot.bar(x=\"GPE\", y=\"Count\")"
   ]
  }
 ],
 "metadata": {
  "kernelspec": {
   "display_name": "Python 3 ",
   "language": "python",
   "name": "python3"
  },
  "language_info": {
   "codemirror_mode": {
    "name": "ipython",
    "version": 3
   },
   "file_extension": ".py",
   "mimetype": "text/x-python",
   "name": "python",
   "nbconvert_exporter": "python",
   "pygments_lexer": "ipython3",
   "version": "3.9.6"
  }
 },
 "nbformat": 4,
 "nbformat_minor": 5
}
